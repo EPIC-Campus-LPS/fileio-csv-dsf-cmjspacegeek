{
 "cells": [
  {
   "cell_type": "markdown",
   "id": "bce1e011-dd4e-4e2b-b22d-46a00ad63372",
   "metadata": {},
   "source": [
    "# Lab 1"
   ]
  },
  {
   "cell_type": "markdown",
   "id": "55b88fe5-04d3-4182-9146-9b6f43d8e78f",
   "metadata": {},
   "source": [
    "# Part 1"
   ]
  },
  {
   "cell_type": "code",
   "execution_count": null,
   "id": "0c90b61f-3719-4084-a4ae-05c8c09d47d8",
   "metadata": {},
   "outputs": [],
   "source": [
    "file = open(\"gun.utf-8\", 'r')\n",
    "abc = [0,0,0,0,0,0,0,0,0,0,0,0,0,0,0,0,0,0,0,0,0,0,0,0,0,0,]\n",
    "words = 0\n",
    "for x in file:\n",
    "    test=str(x)\n",
    "    test = test.replace(\" \", \"\")\n",
    "    test = test.replace(\"\\n\", \"\")\n",
    "    x = list(test)\n",
    "    for i in x:\n",
    "        i=i.upper()\n",
    "        num=(ord(i)-65)\n",
    "        if num >= 0 and num < 26:\n",
    "            abc[num] = abc[num] + 1\n",
    "    words=words+len(x)\n",
    "file.close()\n",
    "for i in range(26):\n",
    "    print(str(chr(i+65))+\":\"+str(abc[i])+\" | %\" + str(round((abc[i]/words*100),2)))"
   ]
  },
  {
   "cell_type": "markdown",
   "id": "f07882eb-aee9-4b52-9348-01cb5ec26697",
   "metadata": {},
   "source": [
    "# Part 2"
   ]
  },
  {
   "cell_type": "code",
   "execution_count": null,
   "id": "4fd98249-f7f9-435f-96f6-2123bdc31047",
   "metadata": {},
   "outputs": [],
   "source": [
    "from collections import Counter\n",
    "from tabulate import tabulate\n",
    "songs = []\n",
    "f = open(\"data.txt\", \"r\")\n",
    "for i in f:\n",
    "    x = i.split(\",\")\n",
    "    songs.append(x[0])\n",
    "c = Counter(songs)\n",
    "print(\"+--------------------------+\")\n",
    "print(\"|      NOT RECEIPTIFY      | \\n|        Last Week         |\")\n",
    "headers=[\"Song\",\"QTY\"]\n",
    "common = c.most_common(10)\n",
    "print(tabulate(common,headers ,tablefmt=\"outline\"))"
   ]
  }
 ],
 "metadata": {
  "kernelspec": {
   "display_name": "Python 3 (ipykernel)",
   "language": "python",
   "name": "python3"
  },
  "language_info": {
   "codemirror_mode": {
    "name": "ipython",
    "version": 3
   },
   "file_extension": ".py",
   "mimetype": "text/x-python",
   "name": "python",
   "nbconvert_exporter": "python",
   "pygments_lexer": "ipython3",
   "version": "3.11.5"
  }
 },
 "nbformat": 4,
 "nbformat_minor": 5
}
