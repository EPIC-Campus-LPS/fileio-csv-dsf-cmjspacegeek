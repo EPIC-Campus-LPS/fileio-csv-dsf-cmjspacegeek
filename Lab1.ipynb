{
 "cells": [
  {
   "cell_type": "markdown",
   "id": "bce1e011-dd4e-4e2b-b22d-46a00ad63372",
   "metadata": {},
   "source": [
    "# Lab 1"
   ]
  },
  {
   "cell_type": "markdown",
   "id": "55b88fe5-04d3-4182-9146-9b6f43d8e78f",
   "metadata": {},
   "source": [
    "# Part 1"
   ]
  },
  {
   "cell_type": "code",
   "execution_count": null,
   "id": "0c90b61f-3719-4084-a4ae-05c8c09d47d8",
   "metadata": {},
   "outputs": [],
   "source": [
    "file = open(\"gun.utf-8\", 'r')\n",
    "abc = [0,0,0,0,0,0,0,0,0,0,0,0,0,0,0,0,0,0,0,0,0,0,0,0,0,0,]\n",
    "words = 0\n",
    "for x in file:\n",
    "    test=str(x)\n",
    "    test = test.replace(\" \", \"\")\n",
    "    test = test.replace(\"\\n\", \"\")\n",
    "    x = list(test)\n",
    "    for i in x:\n",
    "        i=i.upper()\n",
    "        num=(ord(i)-65)\n",
    "        if num >= 0 and num < 26:\n",
    "            abc[num] = abc[num] + 1\n",
    "    words=words+len(x)\n",
    "file.close()\n",
    "for i in range(26):\n",
    "    print(str(chr(i+65))+\":\"+str(abc[i])+\" | %\" + str(round((abc[i]/words*100),2)))"
   ]
  },
  {
   "cell_type": "markdown",
   "id": "f07882eb-aee9-4b52-9348-01cb5ec26697",
   "metadata": {},
   "source": [
    "# Part 2"
   ]
  },
  {
   "cell_type": "code",
   "execution_count": 1,
   "id": "4fd98249-f7f9-435f-96f6-2123bdc31047",
   "metadata": {},
   "outputs": [
    {
     "ename": "ModuleNotFoundError",
     "evalue": "No module named 'tabulate'",
     "output_type": "error",
     "traceback": [
      "\u001b[0;31m---------------------------------------------------------------------------\u001b[0m",
      "\u001b[0;31mModuleNotFoundError\u001b[0m                       Traceback (most recent call last)",
      "Cell \u001b[0;32mIn[1], line 2\u001b[0m\n\u001b[1;32m      1\u001b[0m \u001b[38;5;28;01mfrom\u001b[39;00m \u001b[38;5;21;01mcollections\u001b[39;00m \u001b[38;5;28;01mimport\u001b[39;00m Counter\n\u001b[0;32m----> 2\u001b[0m \u001b[38;5;28;01mfrom\u001b[39;00m \u001b[38;5;21;01mtabulate\u001b[39;00m \u001b[38;5;28;01mimport\u001b[39;00m tabulate\n\u001b[1;32m      3\u001b[0m songs \u001b[38;5;241m=\u001b[39m []\n\u001b[1;32m      4\u001b[0m f \u001b[38;5;241m=\u001b[39m \u001b[38;5;28mopen\u001b[39m(\u001b[38;5;124m\"\u001b[39m\u001b[38;5;124mdata.txt\u001b[39m\u001b[38;5;124m\"\u001b[39m, \u001b[38;5;124m\"\u001b[39m\u001b[38;5;124mr\u001b[39m\u001b[38;5;124m\"\u001b[39m)\n",
      "\u001b[0;31mModuleNotFoundError\u001b[0m: No module named 'tabulate'"
     ]
    }
   ],
   "source": [
    "from collections import Counter\n",
    "from tabulate import tabulate\n",
    "songs = []\n",
    "f = open(\"data.txt\", \"r\")\n",
    "for i in f:\n",
    "    x = i.split(\",\")\n",
    "    songs.append(x[0])\n",
    "c = Counter(songs)\n",
    "print(\"+--------------------------+\")\n",
    "print(\"|      NOT RECEIPTIFY      | \\n|        Last Week         |\")\n",
    "headers=[\"Song\",\"QTY\"]\n",
    "common = c.most_common(10)\n",
    "print(tabulate(common,headers ,tablefmt=\"outline\"))"
   ]
  },
  {
   "cell_type": "markdown",
   "id": "ff00648c-f012-43a1-826b-53d26ff49154",
   "metadata": {},
   "source": [
    "# Part 3"
   ]
  },
  {
   "cell_type": "code",
   "execution_count": null,
   "id": "3813f3c0-097e-421b-8aee-8e33d62fafea",
   "metadata": {},
   "outputs": [],
   "source": [
    "ip_list=[]\n",
    "ip_list_u=[]\n",
    "f=open(\"server_summary.txt\",\"w\")\n",
    "text = open(\"server_log.txt\", \"r\")\n",
    "count=0\n",
    "count2=0\n",
    "count3=0\n",
    "for line in text:\n",
    "    ip = line.split('-')\n",
    "    ip=str(ip[0])\n",
    "    ip_list.append(ip)\n",
    "    if ip not in ip_list_u:\n",
    "        ip_list_u.append(ip)\n",
    "f.write(\"\\n\")\n",
    "f.write( str(len(ip_list_u))+ \" unique IP addresses\")\n",
    "f.write(\"\\n\")\n",
    "\n",
    "for i in ip_list_u:\n",
    "    ele = i\n",
    "    x = [i for i in ip_list if i == ele]\n",
    "    if len(x) > count:\n",
    "        count=len(x)\n",
    "        first=ele\n",
    "ip_list_u.remove(first)\n",
    "\n",
    "for i in ip_list_u:\n",
    "    ele = i\n",
    "    x = [i for i in ip_list if i == ele]\n",
    "    if len(x) > count2:\n",
    "        count2=len(x)\n",
    "        sec=ele\n",
    "ip_list_u.remove(sec)\n",
    "\n",
    "for i in ip_list_u:\n",
    "    ele = i\n",
    "    x = [i for i in ip_list if i == ele]\n",
    "    if len(x) > count3:\n",
    "        count3=len(x)\n",
    "        tri=ele\n",
    "ip_list_u.remove(tri)\n",
    "f.write(\"------------\\n\")\n",
    "f.write(first)\n",
    "f.write(\" was connected to \" + str(count)+' times\\n')\n",
    "f.write(\"------------\\n\")\n",
    "f.write(\"\\n\")\n",
    "f.write(\"------------\\n\")\n",
    "f.write(sec)\n",
    "f.write(\" was connected to \" + str(count2)+' times\\n')\n",
    "f.write(\"------------\\n\")\n",
    "f.write(\"\\n\")\n",
    "f.write(\"------------\\n\")\n",
    "f.write(tri)\n",
    "f.write(\" was connected to \" + str(count3)+' times\\n')\n",
    "f.write(\"------------\")"
   ]
  }
 ],
 "metadata": {
  "kernelspec": {
   "display_name": "Python 3 (ipykernel)",
   "language": "python",
   "name": "python3"
  },
  "language_info": {
   "codemirror_mode": {
    "name": "ipython",
    "version": 3
   },
   "file_extension": ".py",
   "mimetype": "text/x-python",
   "name": "python",
   "nbconvert_exporter": "python",
   "pygments_lexer": "ipython3",
   "version": "3.11.5"
  }
 },
 "nbformat": 4,
 "nbformat_minor": 5
}
